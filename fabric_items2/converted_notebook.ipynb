{
  "nbformat": 4,
  "nbformat_minor": 2,
  "metadata": {
    "kernelspec": {
      "display_name": "synapse_pyspark",
      "language": "python",
      "name": "synapse_pyspark"
    }
  },
  "cells": [
    {
      "cell_type": "code",
      "metadata": {},
      "source": [
        "# Welcome to your new notebook\n",
        "# Type here in the cell editor to add code!"
      ]
    },
    {
      "cell_type": "code",
      "metadata": {},
      "source": [
        "# Full Lakehouse ABFSS path\n",
        "# file_path = \"abfss://DEWorkshop_raziuddinkhazi_dev@onelake.dfs.fabric.microsoft.com/Lakehouse_Bronze.Lakehouse/Files/people-100.csv\"\n",
        "# file_path = \"abfss://DEWorkshop_raziuddinkhazi_feature@onelake.dfs.fabric.microsoft.com/Lakehouse_Bronze.Lakehouse/Files/people-100.csv\"\n",
        "\n",
        "# file_path = \"Files/raw-data/people-100.csv\"\n",
        "# # Read CSV into Spark DataFrame\n",
        "# df = spark.read.format(\"csv\") \\\n",
        "#     .option(\"header\", \"true\") \\\n",
        "#     .option(\"inferSchema\", \"true\") \\\n",
        "#     .load(file_path)\n",
        "\n",
        "# display(df)"
      ]
    },
    {
      "cell_type": "code",
      "metadata": {},
      "source": [
        "from pyspark.sql import functions as F\n",
        "\n",
        "# lowercase, replace spaces with underscores\n",
        "def clean_column_names(df):\n",
        "    for col in df.columns:\n",
        "        df = df.withColumnRenamed(col, col.strip().lower().replace(\" \", \"_\"))\n",
        "    return df"
      ]
    },
    {
      "cell_type": "code",
      "metadata": {},
      "source": [
        "# Mask emails for privacy (show only first letter + domain)\n",
        "\n",
        "def mask_email(df):\n",
        "    return df.withColumn(\n",
        "        \"email_masked\",\n",
        "        F.concat(\n",
        "            F.substring(\"email\", 1, 1),\n",
        "            F.lit(\"***@\"),\n",
        "            F.regexp_extract(\"email\", \"@(.+)\", 1)\n",
        "        )\n",
        "    )"
      ]
    },
    {
      "cell_type": "code",
      "metadata": {},
      "source": [
        "# Calculate age from Date_of_birth\n",
        "def add_age(df):\n",
        "    return df.withColumn(\n",
        "        \"age\",\n",
        "        F.floor(F.datediff(F.current_date(), F.to_date(\"date_of_birth\")) / 365)\n",
        "    )"
      ]
    },
    {
      "cell_type": "code",
      "metadata": {},
      "source": [
        "# -------------------------------\n",
        "# Apply transformations\n",
        "# -------------------------------\n",
        "# df_transformed = (\n",
        "#     df.transform(clean_column_names)\n",
        "#       .transform(mask_email)\n",
        "#       .transform(add_age)\n",
        "# )\n",
        "\n",
        "# display(df_transformed)"
      ]
    },
    {
      "cell_type": "code",
      "metadata": {},
      "source": [
        "# Example: write DataFrame into Lakehouse managed tables\n",
        "# df_transformed.write.format(\"delta\") \\\n",
        "#     .mode(\"overwrite\") \\\n",
        "#     .saveAsTable(\"Lakehouse_Bronze.People_table\")"
      ]
    },
    {
      "cell_type": "code",
      "metadata": {},
      "source": [
        "# ------------------ only runs in Fabric, not during tests ------------------\n",
        "if __name__ == \"__main__\":\n",
        "    file_path = \"Files/raw-data/people-100.csv\"\n",
        "\n",
        "    df = spark.read.format(\"csv\") \\\n",
        "        .option(\"header\", \"true\") \\\n",
        "        .option(\"inferSchema\", \"true\") \\\n",
        "        .load(file_path)\n",
        "\n",
        "    df_transformed = (\n",
        "        df.transform(clean_column_names)\n",
        "          .transform(mask_email)\n",
        "          .transform(add_age)\n",
        "    )\n",
        "\n",
        "    display(df_transformed)\n",
        "\n",
        "    df_transformed.write.format(\"delta\") \\\n",
        "        .mode(\"overwrite\") \\\n",
        "        .saveAsTable(\"Lakehouse_Bronze.People_table\")"
      ]
    }
  ]
}